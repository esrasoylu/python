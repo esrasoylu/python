{
 "cells": [
  {
   "cell_type": "markdown",
   "id": "f819a770",
   "metadata": {},
   "source": [
    "# Using the Video Intelligence API with Python"
   ]
  },
  {
   "cell_type": "markdown",
   "id": "9d9ed3ac",
   "metadata": {},
   "source": [
    "Google Cloud's Video Intelligence API is a cloud service that allows various analyses to be performed on videos. The Video Intelligence API automatically processes videos, extracting meaning from the content, providing labeling, recognizing content, conducting sentiment analysis, and transcribing video to text. In this article, we discuss the usage of the Video Intelligence API with Python, demonstrating the transcription of audio from a video and performing sentiment analysis using TextBlob\n",
    "\n"
   ]
  },
  {
   "cell_type": "code",
   "execution_count": null,
   "id": "3520e6e2",
   "metadata": {},
   "outputs": [],
   "source": [
    "#Install the videointelligenceapi library.\n",
    "!pip install google-cloud-videointelligence"
   ]
  },
  {
   "cell_type": "markdown",
   "id": "2d0cd104",
   "metadata": {},
   "source": [
    "Google Cloud SDK'yı yükleyiniz. (https://cloud.google.com/sdk/docs/install)."
   ]
  },
  {
   "cell_type": "code",
   "execution_count": null,
   "id": "5dd88daa",
   "metadata": {},
   "outputs": [],
   "source": [
    "import os\n",
    "os.environ['GOOGLE_APPLICATION_CREDENTIALS']='videoanalysis-413611-07e890a20612.json'"
   ]
  },
  {
   "cell_type": "code",
   "execution_count": null,
   "id": "c755ac42",
   "metadata": {},
   "outputs": [],
   "source": [
    "from datetime import timedelta\n",
    "from typing import Optional, Sequence, cast\n",
    "\n",
    "from google.cloud import videointelligence_v1 as vi\n",
    "\n",
    "\n",
    "def transcribe_speech(\n",
    "    video_uri: str,\n",
    "    language_code: str,\n",
    "    segments: Optional[Sequence[vi.VideoSegment]] = None,\n",
    ") -> vi.VideoAnnotationResults:\n",
    "    video_client = vi.VideoIntelligenceServiceClient()\n",
    "    features = [vi.Feature.SPEECH_TRANSCRIPTION]\n",
    "    config = vi.SpeechTranscriptionConfig(\n",
    "        language_code=language_code,\n",
    "        enable_automatic_punctuation=True,\n",
    "    )\n",
    "    context = vi.VideoContext(\n",
    "        segments=segments,\n",
    "        speech_transcription_config=config,\n",
    "    )\n",
    "    request = vi.AnnotateVideoRequest(\n",
    "        input_uri=video_uri,\n",
    "        features=features,\n",
    "        video_context=context,\n",
    "    )\n",
    "\n",
    "    print(f'Processing video \"{video_uri}\"...')\n",
    "    operation = video_client.annotate_video(request)\n",
    "\n",
    "    # Wait for operation to complete\n",
    "    response = cast(vi.AnnotateVideoResponse, operation.result())\n",
    "    # A single video is processed\n",
    "    results = response.annotation_results[0]\n",
    "\n",
    "    return results"
   ]
  },
  {
   "cell_type": "code",
   "execution_count": null,
   "id": "cad104aa",
   "metadata": {},
   "outputs": [],
   "source": [
    "#Paste the link of the video you uploaded to the Cloud Storage section into the video_uri section.\n",
    "\n",
    "video_uri = \"gs://videobucketproject/4K Ostrich the Flightless Bird - African Wildlife Documentary Film with Narration.mp4\"\n",
    "language_code = \"en-US\"\n",
    "segment = vi.VideoSegment(\n",
    "    start_time_offset=timedelta(seconds=1), #Specify the start and end times in seconds.\n",
    "    end_time_offset=timedelta(seconds=220),\n",
    ")\n",
    "\n",
    "results = transcribe_speech(video_uri, language_code, [segment])"
   ]
  },
  {
   "cell_type": "code",
   "execution_count": null,
   "id": "cd181526",
   "metadata": {},
   "outputs": [],
   "source": [
    "def print_video_speech(results: vi.VideoAnnotationResults, min_confidence: float = 0.8):\n",
    "    def keep_transcription(transcription: vi.SpeechTranscription) -> bool:\n",
    "        return min_confidence <= transcription.alternatives[0].confidence\n",
    "\n",
    "    transcriptions = results.speech_transcriptions\n",
    "    transcriptions = [t for t in transcriptions if keep_transcription(t)]\n",
    "\n",
    "    print(f\" Speech transcriptions: {len(transcriptions)} \".center(80, \"-\"))\n",
    "    for transcription in transcriptions:\n",
    "        first_alternative = transcription.alternatives[0]\n",
    "        confidence = first_alternative.confidence\n",
    "        transcript = first_alternative.transcript\n",
    "        print(f\" {confidence:4.0%} | {transcript.strip()}\")\n"
   ]
  },
  {
   "cell_type": "code",
   "execution_count": null,
   "id": "66f2e194",
   "metadata": {},
   "outputs": [],
   "source": [
    "print(print_video_speech(results))"
   ]
  },
  {
   "cell_type": "code",
   "execution_count": null,
   "id": "0d2f7d51",
   "metadata": {},
   "outputs": [],
   "source": [
    "from textblob import TextBlob\n",
    "\n",
    "def analyze_sentiment(transcript):\n",
    "    blob = TextBlob(transcript)\n",
    "    sentiment_score = blob.sentiment.polarity\n",
    "    sentiment_label = \"Positive\" if sentiment_score > 0 else \"Negative\" if sentiment_score < 0 else \"Neutral\"\n",
    "\n",
    "    return sentiment_label, sentiment_score\n",
    "\n",
    "\n",
    "transcripts = [\n",
    "    \"On the Open Spaces of the Kalahari Desert it's hard to find a place for such a high concentration of animals can be seen water holes and pens which are crucial sources of drinking attract wild animals such as these amazing envelope..\",\n",
    "    \"I'm on the small herd of envelope. You can see a huge long-legged bird with a matching long neck male African ostrich. It's peering into the distance and evaluating the situation standing more than a feet tall with a secure site the Ostrich can see a danger at the distance of many miles.\",\n",
    "    \"It's family is waiting for a nearby is trying to drink water cautiously bending its head to the ground but constantly looking around its surroundings. Maybe it's all Predators finally the Ostrich took the first sip of water while raising the head to look around one more time and let's water get to it's too just attract through the long oesophagus.\",\n",
    "    \"After making sure that the place is safe in water is tasty the meal returns to its offspring two females are waiting patiently looking after their chicks after reporting the situation by the water the head of the family invites others to follow it.\",\n",
    "    \"Chicks born different females are members of the scene family...\"\n",
    "]\n",
    "\n",
    "for i, transcript in enumerate(transcripts, 1):\n",
    "    sentiment_label, sentiment_score = analyze_sentiment(transcript)\n",
    "    print(f\"Transcript {i}: {transcript}\")\n",
    "    print(\"Sentiment Label:\", sentiment_label)\n",
    "    print(\"Sentiment Score:\", sentiment_score)\n",
    "    print(\"\\n\")\n"
   ]
  }
 ],
 "metadata": {
  "kernelspec": {
   "display_name": "Python 3 (ipykernel)",
   "language": "python",
   "name": "python3"
  },
  "language_info": {
   "codemirror_mode": {
    "name": "ipython",
    "version": 3
   },
   "file_extension": ".py",
   "mimetype": "text/x-python",
   "name": "python",
   "nbconvert_exporter": "python",
   "pygments_lexer": "ipython3",
   "version": "3.11.4"
  }
 },
 "nbformat": 4,
 "nbformat_minor": 5
}
